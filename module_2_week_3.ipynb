{
  "nbformat": 4,
  "nbformat_minor": 0,
  "metadata": {
    "colab": {
      "provenance": []
    },
    "kernelspec": {
      "name": "python3",
      "display_name": "Python 3"
    },
    "language_info": {
      "name": "python"
    }
  },
  "cells": [
    {
      "cell_type": "code",
      "execution_count": 3,
      "metadata": {
        "colab": {
          "base_uri": "https://localhost:8080/"
        },
        "id": "QoLwdXACaTLP",
        "outputId": "36b970cc-6fc5-4320-efc9-d115c93dc57e"
      },
      "outputs": [
        {
          "output_type": "stream",
          "name": "stdout",
          "text": [
            "[['Sunny' 'Hot' 'High' 'Weak' 'no']\n",
            " ['Sunny' 'Hot' 'High' 'Strong' 'no']\n",
            " ['Overcast' 'Hot' 'High' 'Weak' 'yes']\n",
            " ['Rain' 'Mild' 'High' 'Weak' 'yes']\n",
            " ['Rain' 'Cool' 'Normal' 'Weak' 'yes']\n",
            " ['Rain' 'Cool' 'Normal' 'Strong' 'no']\n",
            " ['Overcast' 'Cool' 'Normal' 'Strong' 'yes']\n",
            " ['Overcast' 'Mild' 'High' 'Weak' 'no']\n",
            " ['Sunny' 'Cool' 'Normal' 'Weak' 'yes']\n",
            " ['Rain' 'Mild' 'Normal' 'Weak' 'yes']]\n"
          ]
        }
      ],
      "source": [
        "import numpy as np\n",
        "\n",
        "def create_train_data () :\n",
        "  data = [['Sunny','Hot', 'High', 'Weak', 'no'],\n",
        "        ['Sunny','Hot', 'High', 'Strong', 'no'],\n",
        "        ['Overcast','Hot', 'High', 'Weak', 'yes'],\n",
        "        ['Rain','Mild', 'High', 'Weak', 'yes'],\n",
        "        ['Rain','Cool', 'Normal', 'Weak', 'yes'],\n",
        "        ['Rain','Cool', 'Normal', 'Strong', 'no'],\n",
        "        ['Overcast','Cool', 'Normal', 'Strong', 'yes'],\n",
        "        ['Overcast','Mild', 'High', 'Weak', 'no'],\n",
        "        ['Sunny','Cool', 'Normal', 'Weak', 'yes'],\n",
        "        ['Rain','Mild', 'Normal', 'Weak', 'yes']\n",
        "        ]\n",
        "  return np.array(data)\n",
        "train_data = create_train_data()\n",
        "print(train_data)"
      ]
    },
    {
      "cell_type": "markdown",
      "source": [
        "**4.2**"
      ],
      "metadata": {
        "id": "LM9HkNzKfqVQ"
      }
    },
    {
      "cell_type": "code",
      "source": [
        "def compute_prior_probability(train_data) :\n",
        "  y_unique = ['no', 'yes']\n",
        "  prior_probability = np.zeros(len(y_unique))\n",
        "  prior_probability[0] = np.sum(train_data[:, 4] == 'no')/len(train_data[:, 0])\n",
        "  prior_probability[1] = np.sum(train_data[:, 4] == 'yes')/len(train_data[:, 0])\n",
        "  return prior_probability\n",
        "\n",
        "prior_probability = compute_prior_probability( train_data )\n",
        "print ( 'P(play tennis = No)' , prior_probability[0])\n",
        "print ('P( play tennis = Yes)' , prior_probability[1])\n",
        "\n"
      ],
      "metadata": {
        "colab": {
          "base_uri": "https://localhost:8080/"
        },
        "id": "EgmlISoAauOn",
        "outputId": "2ee28db5-769d-469d-e497-f0049c0d06a4"
      },
      "execution_count": 4,
      "outputs": [
        {
          "output_type": "stream",
          "name": "stdout",
          "text": [
            "P(play tennis = No) 0.4\n",
            "P( play tennis = Yes) 0.6\n"
          ]
        }
      ]
    },
    {
      "cell_type": "markdown",
      "source": [
        "**4.3**"
      ],
      "metadata": {
        "id": "1D6SQQcdftSi"
      }
    },
    {
      "cell_type": "code",
      "source": [
        "def compute_conditional_probability ( train_data ) :\n",
        "  y_unique = ['no', 'yes']\n",
        "  conditional_probability = []\n",
        "  list_x_name = []\n",
        "\n",
        "  for i in range(0, train_data.shape[1] - 1) :\n",
        "    x_unique = np.unique(train_data[:, i])\n",
        "    list_x_name.append(x_unique)\n",
        "    x_conditional_probability = np.zeros((len(y_unique), len(x_unique)))\n",
        "\n",
        "    for j in range(0, len(y_unique)) :\n",
        "      for k in range(0, len(x_unique)) :\n",
        "        x_conditional_probability[j, k] = np.sum((train_data[:, 4] == y_unique[j]) & (train_data[:, i] == x_unique[k]))/np.sum(train_data[:, 4] == y_unique[j])\n",
        "\n",
        "    conditional_probability.append(x_conditional_probability)\n",
        "  return conditional_probability, list_x_name\n",
        "\n",
        "conditional_probability, list_x_name = compute_conditional_probability(train_data)\n",
        "print(list_x_name)\n",
        "print(conditional_probability)\n"
      ],
      "metadata": {
        "colab": {
          "base_uri": "https://localhost:8080/"
        },
        "id": "Vf-mvV0SauRX",
        "outputId": "ae4850b4-3f9e-477d-dfa0-e69105f31b3d"
      },
      "execution_count": 5,
      "outputs": [
        {
          "output_type": "stream",
          "name": "stdout",
          "text": [
            "[array(['Overcast', 'Rain', 'Sunny'], dtype='<U8'), array(['Cool', 'Hot', 'Mild'], dtype='<U8'), array(['High', 'Normal'], dtype='<U8'), array(['Strong', 'Weak'], dtype='<U8')]\n",
            "[array([[0.25      , 0.25      , 0.5       ],\n",
            "       [0.33333333, 0.5       , 0.16666667]]), array([[0.25      , 0.5       , 0.25      ],\n",
            "       [0.5       , 0.16666667, 0.33333333]]), array([[0.75      , 0.25      ],\n",
            "       [0.33333333, 0.66666667]]), array([[0.5       , 0.5       ],\n",
            "       [0.16666667, 0.83333333]])]\n"
          ]
        }
      ]
    },
    {
      "cell_type": "code",
      "source": [
        "train_data = create_train_data ()\n",
        "_ , list_x_name = compute_conditional_probability ( train_data )\n",
        "print (\"x1 = \", list_x_name [0])\n",
        "print (\"x2 = \", list_x_name [1])\n",
        "print (\"x3 = \", list_x_name [2])\n",
        "print (\"x4 = \", list_x_name [3])"
      ],
      "metadata": {
        "id": "L3UmfnyUauZ4",
        "colab": {
          "base_uri": "https://localhost:8080/"
        },
        "outputId": "ce58060d-00cb-4fae-da8b-447398bd2595"
      },
      "execution_count": 6,
      "outputs": [
        {
          "output_type": "stream",
          "name": "stdout",
          "text": [
            "x1 =  ['Overcast' 'Rain' 'Sunny']\n",
            "x2 =  ['Cool' 'Hot' 'Mild']\n",
            "x3 =  ['High' 'Normal']\n",
            "x4 =  ['Strong' 'Weak']\n"
          ]
        }
      ]
    },
    {
      "cell_type": "markdown",
      "source": [
        "**4.4**"
      ],
      "metadata": {
        "id": "xLoUxRFrnw_4"
      }
    },
    {
      "cell_type": "code",
      "source": [
        "def get_index_from_value(feature_name, list_features) :\n",
        "  return np.where(list_features == feature_name)[0][0]"
      ],
      "metadata": {
        "id": "NEU59WMWaud_"
      },
      "execution_count": 11,
      "outputs": []
    },
    {
      "cell_type": "code",
      "source": [
        "train_data = create_train_data ()\n",
        "_ , list_x_name = compute_conditional_probability ( train_data )\n",
        "outlook = list_x_name [0]\n",
        "print(outlook)\n",
        "\n",
        "i1 = get_index_from_value(\"Overcast\", outlook )\n",
        "i2 = get_index_from_value(\"Rain\", outlook )\n",
        "i3 = get_index_from_value(\"Sunny\", outlook )\n",
        "\n",
        "print ( i1 , i2 , i3 )"
      ],
      "metadata": {
        "id": "8f96u9rHaugR",
        "colab": {
          "base_uri": "https://localhost:8080/"
        },
        "outputId": "610a4d9e-29ea-4d0e-d060-0d68f53139ae"
      },
      "execution_count": 14,
      "outputs": [
        {
          "output_type": "stream",
          "name": "stdout",
          "text": [
            "['Overcast' 'Rain' 'Sunny']\n",
            "0 1 2\n"
          ]
        }
      ]
    },
    {
      "cell_type": "markdown",
      "source": [
        "**4.5**"
      ],
      "metadata": {
        "id": "-062kk8QwZ2M"
      }
    },
    {
      "cell_type": "code",
      "source": [
        "def train_naive_bayes(train_data) :\n",
        "  y_unique = ['no', 'yes']\n",
        "  prior_probability = compute_prior_probability(train_data)\n",
        "  conditional_probability, list_x_name = compute_conditional_probability(train_data)\n",
        "  return prior_probability, conditional_probability, list_x_name\n"
      ],
      "metadata": {
        "id": "T-J0OYElaukG"
      },
      "execution_count": 18,
      "outputs": []
    },
    {
      "cell_type": "markdown",
      "source": [
        "**4.6**"
      ],
      "metadata": {
        "id": "dyyXZXgZwcjd"
      }
    },
    {
      "cell_type": "code",
      "source": [
        "def prediction_play_tennis (X , list_x_name , prior_probability , conditional_probability ) :\n",
        "\n",
        "  x1 = get_index_from_value(X[0] , list_x_name[0])\n",
        "  x2 = get_index_from_value(X[1] , list_x_name[1])\n",
        "  x3 = get_index_from_value(X[2] , list_x_name[2])\n",
        "  x4 = get_index_from_value(X[3] , list_x_name[3])\n",
        "\n",
        "  p0 = 0\n",
        "  p1 = 0\n",
        "\n",
        "  p0 = conditional_probability[0][0][x1] * conditional_probability[1][0][x2] * conditional_probability[2][0][x3] * conditional_probability[3][0][x4] * prior_probability[0]\n",
        "  p1 = conditional_probability[0][1][x1] * conditional_probability[1][1][x2] * conditional_probability[2][1][x3] * conditional_probability[3][1][x4] * prior_probability[1]\n",
        "\n",
        "  if p0 > p1 :\n",
        "    y_pred =0\n",
        "  else :\n",
        "    y_pred =1\n",
        "\n",
        "  return y_pred"
      ],
      "metadata": {
        "id": "i-o6KVr6aumm"
      },
      "execution_count": 31,
      "outputs": []
    },
    {
      "cell_type": "code",
      "source": [
        "X = ['Sunny','Cool', 'High', 'Strong']\n",
        "data = create_train_data ()\n",
        "prior_probability , conditional_probability , list_x_name = train_naive_bayes ( data )\n",
        "pred = prediction_play_tennis (X , list_x_name , prior_probability ,\n",
        "conditional_probability )\n",
        "\n",
        "if( pred ) :\n",
        "  print (\"Ad should go!\")\n",
        "else :\n",
        "  print (\"Ad should not go!\")"
      ],
      "metadata": {
        "id": "6C-FOcIxaupJ",
        "colab": {
          "base_uri": "https://localhost:8080/"
        },
        "outputId": "33bb8462-67d9-47be-ccb4-6819966889e1"
      },
      "execution_count": 32,
      "outputs": [
        {
          "output_type": "stream",
          "name": "stdout",
          "text": [
            "Ad should not go!\n"
          ]
        }
      ]
    },
    {
      "cell_type": "code",
      "source": [],
      "metadata": {
        "id": "GZdhTqqjaut1"
      },
      "execution_count": null,
      "outputs": []
    }
  ]
}