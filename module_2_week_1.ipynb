{
  "nbformat": 4,
  "nbformat_minor": 0,
  "metadata": {
    "colab": {
      "provenance": []
    },
    "kernelspec": {
      "name": "python3",
      "display_name": "Python 3"
    },
    "language_info": {
      "name": "python"
    }
  },
  "cells": [
    {
      "cell_type": "code",
      "execution_count": 3,
      "metadata": {
        "colab": {
          "base_uri": "https://localhost:8080/"
        },
        "id": "66v8rS_atKoT",
        "outputId": "95dd29e0-f231-4abd-f9d8-7fe9dca8a583"
      },
      "outputs": [
        {
          "output_type": "stream",
          "name": "stdout",
          "text": [
            "Downloading...\n",
            "From: https://drive.google.com/uc?id=1i9dqan21DjQoG5Q_VEvm0LrVwAlXD0vB\n",
            "To: /content/dog.jpeg\n",
            "\r  0% 0.00/33.7k [00:00<?, ?B/s]\r100% 33.7k/33.7k [00:00<00:00, 44.8MB/s]\n"
          ]
        },
        {
          "output_type": "execute_result",
          "data": {
            "text/plain": [
              "(534, 800)"
            ]
          },
          "metadata": {},
          "execution_count": 3
        }
      ],
      "source": [
        "!gdown 1i9dqan21DjQoG5Q_VEvm0LrVwAlXD0vB"
      ]
    },
    {
      "cell_type": "markdown",
      "source": [
        "**CÂU 12: LIGHTNESS**"
      ],
      "metadata": {
        "id": "6pYANq3bwoZu"
      }
    },
    {
      "cell_type": "code",
      "source": [
        "import matplotlib.image as mpimg\n",
        "import numpy as np\n",
        "\n",
        "img = mpimg.imread(\"/content/dog.jpeg\")\n",
        "\n",
        "def light_ness(vector) :\n",
        "  return np.max(vector) * 0.5 + np.min(vector) * 0.5\n",
        "gray_img_01 = np.apply_along_axis(light_ness, axis = 2, arr = img)\n",
        "gray_img_01[0 , 0]"
      ],
      "metadata": {
        "colab": {
          "base_uri": "https://localhost:8080/"
        },
        "id": "x810MPhwvpOH",
        "outputId": "d5c39410-0da6-4c29-e5af-d9862ea4a831"
      },
      "execution_count": 8,
      "outputs": [
        {
          "output_type": "execute_result",
          "data": {
            "text/plain": [
              "102.5"
            ]
          },
          "metadata": {},
          "execution_count": 8
        }
      ]
    },
    {
      "cell_type": "markdown",
      "source": [
        "** CÂU 13: AVERAGE**"
      ],
      "metadata": {
        "id": "Ur7S89Akwvq9"
      }
    },
    {
      "cell_type": "code",
      "source": [
        "def compute_average(vector):\n",
        "  return vector.mean()\n",
        "gray_img_02 = np.apply_along_axis(compute_average, axis = 2, arr = img)\n",
        "gray_img_02[0 , 0]"
      ],
      "metadata": {
        "colab": {
          "base_uri": "https://localhost:8080/"
        },
        "id": "_swQfJutvpQY",
        "outputId": "3d3dfb41-91df-48dc-ce94-800a2bf481e8"
      },
      "execution_count": 7,
      "outputs": [
        {
          "output_type": "execute_result",
          "data": {
            "text/plain": [
              "107.66666666666667"
            ]
          },
          "metadata": {},
          "execution_count": 7
        }
      ]
    },
    {
      "cell_type": "markdown",
      "source": [
        "**CÂU 14: Luminosity**"
      ],
      "metadata": {
        "id": "oHdVu6sYH-eZ"
      }
    },
    {
      "cell_type": "code",
      "source": [
        "def compute_luminosity(vector):\n",
        "  return vector[0] * 0.21 + vector[1] * 0.72 + vector[2] * 0.07\n",
        "gray_img_03 = np.apply_along_axis(compute_luminosity, axis = 2, arr = img)\n",
        "gray_img_03[0 , 0]"
      ],
      "metadata": {
        "colab": {
          "base_uri": "https://localhost:8080/"
        },
        "id": "LaC9iW5AvpSv",
        "outputId": "c10c00df-1071-4088-89df-39dfb5b1ace0"
      },
      "execution_count": 9,
      "outputs": [
        {
          "output_type": "execute_result",
          "data": {
            "text/plain": [
              "126.22999999999999"
            ]
          },
          "metadata": {},
          "execution_count": 9
        }
      ]
    },
    {
      "cell_type": "markdown",
      "source": [
        "**BÀI TẬP 3:**\n"
      ],
      "metadata": {
        "id": "YBS7rEwayaJB"
      }
    },
    {
      "cell_type": "code",
      "source": [
        "! gdown 1iA0WmVfW88HyJvTBSQDI5vesf-pgKabq"
      ],
      "metadata": {
        "colab": {
          "base_uri": "https://localhost:8080/"
        },
        "id": "UFnwe4FwvpZe",
        "outputId": "218607d8-caa8-46b0-c77f-1ca35e859ec3"
      },
      "execution_count": 11,
      "outputs": [
        {
          "output_type": "stream",
          "name": "stdout",
          "text": [
            "Downloading...\n",
            "From: https://drive.google.com/uc?id=1iA0WmVfW88HyJvTBSQDI5vesf-pgKabq\n",
            "To: /content/advertising.csv\n",
            "\r  0% 0.00/4.06k [00:00<?, ?B/s]\r100% 4.06k/4.06k [00:00<00:00, 10.9MB/s]\n"
          ]
        }
      ]
    },
    {
      "cell_type": "code",
      "source": [
        "import pandas as pd\n",
        "df = pd.read_csv(\"/content/advertising.csv\")\n",
        "data = df.to_numpy()"
      ],
      "metadata": {
        "id": "DUeyozdivpbz"
      },
      "execution_count": 13,
      "outputs": []
    },
    {
      "cell_type": "code",
      "source": [
        "data_test = data[: 5]\n",
        "print(data_test)"
      ],
      "metadata": {
        "colab": {
          "base_uri": "https://localhost:8080/"
        },
        "id": "4eC47W8RvpeS",
        "outputId": "e53bd6d8-0eac-4a8b-f2cf-e082c9e83100"
      },
      "execution_count": 15,
      "outputs": [
        {
          "output_type": "stream",
          "name": "stdout",
          "text": [
            "[[230.1  37.8  69.2  22.1]\n",
            " [ 44.5  39.3  45.1  10.4]\n",
            " [ 17.2  45.9  69.3  12. ]\n",
            " [151.5  41.3  58.5  16.5]\n",
            " [180.8  10.8  58.4  17.9]]\n"
          ]
        }
      ]
    },
    {
      "cell_type": "code",
      "source": [
        "tv_data = data[:, 0]\n",
        "print(tv_data.mean())"
      ],
      "metadata": {
        "colab": {
          "base_uri": "https://localhost:8080/"
        },
        "id": "TZUtXqLc1qun",
        "outputId": "3a9c4ba0-f4f6-4b11-8e70-443ce84a670c"
      },
      "execution_count": 16,
      "outputs": [
        {
          "output_type": "stream",
          "name": "stdout",
          "text": [
            "147.0425\n"
          ]
        }
      ]
    },
    {
      "cell_type": "code",
      "source": [
        "sale_data = data[: , 3]\n",
        "sale_mean = sale_data.mean()\n",
        "scores = np.where(sale_data > sale_mean, \"Good\", np.where(sale_data < sale_mean, \"Bad\", \"Average\"))\n",
        "print(scores[7 : 10])"
      ],
      "metadata": {
        "colab": {
          "base_uri": "https://localhost:8080/"
        },
        "id": "NliqF6gY1qsS",
        "outputId": "60b7f087-aa97-4c8c-b1bc-167c02d7c0f8"
      },
      "execution_count": 17,
      "outputs": [
        {
          "output_type": "stream",
          "name": "stdout",
          "text": [
            "['Bad' 'Bad' 'Good']\n"
          ]
        }
      ]
    },
    {
      "cell_type": "code",
      "source": [
        "sale_data = data[: , 3]\n",
        "sale_mean = sale_data.mean()\n",
        "\n",
        "res_data = abs(sale_data - sale_mean)\n",
        "average_min = np.argmin(res_data)\n",
        "scores = np.where(sale_data > sale_data[average_min], \"Good\", np.where(sale_data < sale_data[average_min], \"Bad\", \"Average\"))\n",
        "print(scores[7 : 10])"
      ],
      "metadata": {
        "colab": {
          "base_uri": "https://localhost:8080/"
        },
        "id": "1nJ7ArN_1qp4",
        "outputId": "e4f0130f-bcdc-4131-9d9d-a5f6885826a0"
      },
      "execution_count": 22,
      "outputs": [
        {
          "output_type": "stream",
          "name": "stdout",
          "text": [
            "['Bad' 'Bad' 'Good']\n"
          ]
        }
      ]
    },
    {
      "cell_type": "code",
      "source": [],
      "metadata": {
        "id": "n7m8UsFC1qnL"
      },
      "execution_count": null,
      "outputs": []
    },
    {
      "cell_type": "code",
      "source": [],
      "metadata": {
        "id": "VKpTSN1R1qkj"
      },
      "execution_count": null,
      "outputs": []
    }
  ]
}